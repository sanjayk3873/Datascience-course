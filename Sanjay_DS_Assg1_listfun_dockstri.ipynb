{
  "nbformat": 4,
  "nbformat_minor": 0,
  "metadata": {
    "colab": {
      "provenance": [],
      "authorship_tag": "ABX9TyMqTk08mi+ZF2H9mDTlqWIV",
      "include_colab_link": true
    },
    "kernelspec": {
      "name": "python3",
      "display_name": "Python 3"
    },
    "language_info": {
      "name": "python"
    }
  },
  "cells": [
    {
      "cell_type": "markdown",
      "metadata": {
        "id": "view-in-github",
        "colab_type": "text"
      },
      "source": [
        "<a href=\"https://colab.research.google.com/github/sanjayk3873/Datascience-course/blob/main/Sanjay_DS_Assg1_listfun_dockstri.ipynb\" target=\"_parent\"><img src=\"https://colab.research.google.com/assets/colab-badge.svg\" alt=\"Open In Colab\"/></a>"
      ]
    },
    {
      "cell_type": "markdown",
      "source": [
        "# **Lists and their functions**"
      ],
      "metadata": {
        "id": "A_xNtOJDkXbn"
      }
    },
    {
      "cell_type": "code",
      "execution_count": 15,
      "metadata": {
        "id": "GjPWs1bhjkTr"
      },
      "outputs": [],
      "source": [
        "sklst1 = [100,50,1,2,70,[20,1,2,3],[2,3,6,100]]"
      ]
    },
    {
      "cell_type": "code",
      "source": [
        "#print(), to print the loaded list\n",
        "print(sklst1)"
      ],
      "metadata": {
        "colab": {
          "base_uri": "https://localhost:8080/"
        },
        "id": "uoC_J2Vek-D0",
        "outputId": "2260a704-a2ff-45df-9314-1c5787d2306d"
      },
      "execution_count": 16,
      "outputs": [
        {
          "output_type": "stream",
          "name": "stdout",
          "text": [
            "[100, 50, 1, 2, 70, [20, 1, 2, 3], [2, 3, 6, 100]]\n"
          ]
        }
      ]
    },
    {
      "cell_type": "code",
      "source": [
        "sklst1.append(1)\n",
        "#Append object to the end of the list"
      ],
      "metadata": {
        "id": "zqLMevrLmUgz"
      },
      "execution_count": 18,
      "outputs": []
    },
    {
      "cell_type": "code",
      "source": [
        "print(sklst1)"
      ],
      "metadata": {
        "colab": {
          "base_uri": "https://localhost:8080/"
        },
        "id": "6jCI21Bqmfp_",
        "outputId": "ac9bed4f-3cc6-48f7-adca-585d9934f891"
      },
      "execution_count": 19,
      "outputs": [
        {
          "output_type": "stream",
          "name": "stdout",
          "text": [
            "[100, 50, 1, 2, 70, [20, 1, 2, 3], [2, 3, 6, 100], 1]\n"
          ]
        }
      ]
    },
    {
      "cell_type": "code",
      "source": [
        "sklst1.sort\n",
        "print(sklst1)\n",
        "#Sort the list in ascending order and return None"
      ],
      "metadata": {
        "colab": {
          "base_uri": "https://localhost:8080/"
        },
        "id": "uga1PhF2mjNR",
        "outputId": "4809bd7e-ae77-448c-9fd3-0215671ce685"
      },
      "execution_count": 25,
      "outputs": [
        {
          "output_type": "stream",
          "name": "stdout",
          "text": [
            "[1, 2, 50, 70, 100, [20, 1, 2, 3], [2, 3, 6, 100], 1]\n"
          ]
        }
      ]
    },
    {
      "cell_type": "markdown",
      "source": [
        "??here, 5, 6 and 7 indexes are not sorted"
      ],
      "metadata": {
        "id": "Ji1eHmUun5xe"
      }
    },
    {
      "cell_type": "code",
      "source": [
        "sorted.sklst1\n",
        "#Return a new list containing all items from the iterable in ascending order."
      ],
      "metadata": {
        "colab": {
          "base_uri": "https://localhost:8080/",
          "height": 193
        },
        "id": "lhfcvhYmoktt",
        "outputId": "fbf17b53-157e-4807-ee25-285301c84def"
      },
      "execution_count": 46,
      "outputs": [
        {
          "output_type": "error",
          "ename": "AttributeError",
          "evalue": "ignored",
          "traceback": [
            "\u001b[0;31m---------------------------------------------------------------------------\u001b[0m",
            "\u001b[0;31mAttributeError\u001b[0m                            Traceback (most recent call last)",
            "\u001b[0;32m<ipython-input-46-9f566e678b44>\u001b[0m in \u001b[0;36m<cell line: 1>\u001b[0;34m()\u001b[0m\n\u001b[0;32m----> 1\u001b[0;31m \u001b[0msorted\u001b[0m\u001b[0;34m.\u001b[0m\u001b[0msklst1\u001b[0m\u001b[0;34m\u001b[0m\u001b[0;34m\u001b[0m\u001b[0m\n\u001b[0m\u001b[1;32m      2\u001b[0m \u001b[0;31m#Return a new list containing all items from the iterable in ascending order.\u001b[0m\u001b[0;34m\u001b[0m\u001b[0;34m\u001b[0m\u001b[0m\n",
            "\u001b[0;31mAttributeError\u001b[0m: 'builtin_function_or_method' object has no attribute 'sklst1'"
          ]
        }
      ]
    },
    {
      "cell_type": "code",
      "source": [
        "sklst1.remove(1)\n",
        "# Remove first occurrence of value."
      ],
      "metadata": {
        "id": "hp2co9euorbx"
      },
      "execution_count": 33,
      "outputs": []
    },
    {
      "cell_type": "code",
      "source": [
        "print(sklst1)"
      ],
      "metadata": {
        "colab": {
          "base_uri": "https://localhost:8080/"
        },
        "id": "wpGT8kW9oypJ",
        "outputId": "d9d1acef-e90b-4f5b-e506-d08a88654855"
      },
      "execution_count": 34,
      "outputs": [
        {
          "output_type": "stream",
          "name": "stdout",
          "text": [
            "[2, 50, 70, 100, [20, 1, 2, 3], [2, 3, 6, 100], 1]\n"
          ]
        }
      ]
    },
    {
      "cell_type": "markdown",
      "source": [
        "??didnt remove 1 from 5 and 7th indexes"
      ],
      "metadata": {
        "id": "JhWnsi-lpAZH"
      }
    },
    {
      "cell_type": "code",
      "source": [
        "sklst1.insert(0,200)\n",
        "#Insert object before index"
      ],
      "metadata": {
        "id": "y8Z3DNWspKQh"
      },
      "execution_count": 36,
      "outputs": []
    },
    {
      "cell_type": "code",
      "source": [
        "print(sklst1)"
      ],
      "metadata": {
        "colab": {
          "base_uri": "https://localhost:8080/"
        },
        "id": "pd2kvp8xpd3I",
        "outputId": "a0d34eaf-5c36-4e6e-d227-5d269206e784"
      },
      "execution_count": 37,
      "outputs": [
        {
          "output_type": "stream",
          "name": "stdout",
          "text": [
            "[200, 2, 50, 70, 100, [20, 1, 2, 3], [2, 3, 6, 100], 1]\n"
          ]
        }
      ]
    },
    {
      "cell_type": "code",
      "source": [
        "sklst1.pop(0)\n",
        "#Remove and return item at index (default last)."
      ],
      "metadata": {
        "colab": {
          "base_uri": "https://localhost:8080/"
        },
        "id": "H-6xIWIVphjr",
        "outputId": "310e76e9-9f2b-46ec-9c25-5c4ab7912e7d"
      },
      "execution_count": 38,
      "outputs": [
        {
          "output_type": "execute_result",
          "data": {
            "text/plain": [
              "200"
            ]
          },
          "metadata": {},
          "execution_count": 38
        }
      ]
    },
    {
      "cell_type": "code",
      "source": [
        "print(sklst1)"
      ],
      "metadata": {
        "colab": {
          "base_uri": "https://localhost:8080/"
        },
        "id": "G3nVfVaPpovt",
        "outputId": "f5cd7596-a760-40a5-e37a-09dd7db59cbb"
      },
      "execution_count": 39,
      "outputs": [
        {
          "output_type": "stream",
          "name": "stdout",
          "text": [
            "[2, 50, 70, 100, [20, 1, 2, 3], [2, 3, 6, 100], 1]\n"
          ]
        }
      ]
    },
    {
      "cell_type": "code",
      "source": [
        "sklst1.count(100)\n",
        "# Return number of occurrences of value."
      ],
      "metadata": {
        "colab": {
          "base_uri": "https://localhost:8080/"
        },
        "id": "oPRBpdhtpr2z",
        "outputId": "c5856a9a-ba33-4204-b847-827f4c65c62f"
      },
      "execution_count": 40,
      "outputs": [
        {
          "output_type": "execute_result",
          "data": {
            "text/plain": [
              "1"
            ]
          },
          "metadata": {},
          "execution_count": 40
        }
      ]
    },
    {
      "cell_type": "markdown",
      "source": [
        "??why not in 5th index"
      ],
      "metadata": {
        "id": "DNwfh1sQp2gt"
      }
    },
    {
      "cell_type": "code",
      "source": [
        "sklst1.clear()\n",
        "#Remove all items from list.\n",
        "print(sklst1)"
      ],
      "metadata": {
        "colab": {
          "base_uri": "https://localhost:8080/"
        },
        "id": "YIW9UqwFp8Yd",
        "outputId": "d1837c53-73af-4981-ae34-2b1d8ffdbac0"
      },
      "execution_count": 41,
      "outputs": [
        {
          "output_type": "stream",
          "name": "stdout",
          "text": [
            "[]\n"
          ]
        }
      ]
    },
    {
      "cell_type": "code",
      "source": [
        "sk2 = [1,2,3,4,5,10,2,4,9]"
      ],
      "metadata": {
        "id": "m4v28EOmtDv-"
      },
      "execution_count": 47,
      "outputs": []
    },
    {
      "cell_type": "code",
      "source": [
        "len(sk2)\n",
        "# Return the number of items in a container"
      ],
      "metadata": {
        "colab": {
          "base_uri": "https://localhost:8080/"
        },
        "id": "0j2f0ZqNtqHI",
        "outputId": "048b847c-29e4-4fa4-8952-81ce89dab24b"
      },
      "execution_count": 48,
      "outputs": [
        {
          "output_type": "execute_result",
          "data": {
            "text/plain": [
              "9"
            ]
          },
          "metadata": {},
          "execution_count": 48
        }
      ]
    },
    {
      "cell_type": "code",
      "source": [
        "print(max(sk2))\n",
        "#gives the largest value in the list"
      ],
      "metadata": {
        "colab": {
          "base_uri": "https://localhost:8080/"
        },
        "id": "VhYHyg0ft56g",
        "outputId": "3abc4dd5-cde7-4461-f709-c4c417294931"
      },
      "execution_count": 49,
      "outputs": [
        {
          "output_type": "stream",
          "name": "stdout",
          "text": [
            "10\n"
          ]
        }
      ]
    },
    {
      "cell_type": "code",
      "source": [
        "type(sk2)\n"
      ],
      "metadata": {
        "colab": {
          "base_uri": "https://localhost:8080/"
        },
        "id": "k37BiwdEuWjt",
        "outputId": "16cff810-7daa-43a7-8ebc-9b9ba8c8c48a"
      },
      "execution_count": 50,
      "outputs": [
        {
          "output_type": "execute_result",
          "data": {
            "text/plain": [
              "list"
            ]
          },
          "metadata": {},
          "execution_count": 50
        }
      ]
    }
  ]
}